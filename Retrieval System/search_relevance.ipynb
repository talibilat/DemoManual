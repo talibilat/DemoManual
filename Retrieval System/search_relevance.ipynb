{
 "cells": [
  {
   "cell_type": "markdown",
   "metadata": {},
   "source": [
    "### Setup"
   ]
  },
  {
   "cell_type": "code",
   "execution_count": 1,
   "metadata": {},
   "outputs": [],
   "source": [
    "import os\n",
    "\n",
    "import azure.identity\n",
    "import dotenv\n",
    "import openai\n",
    "from azure.search.documents import SearchClient\n",
    "from azure.search.documents.models import VectorizedQuery\n",
    "\n",
    "dotenv.load_dotenv()\n",
    "\n",
    "azure_credential = azure.identity.DefaultAzureCredential()\n",
    "\n",
    "# Initialize Azure OpenAI client\n",
    "AZURE_OPENAI_SERVICE = os.getenv(\"AZURE_OPENAI_SERVICE\")\n",
    "AZURE_OPENAI_ADA_DEPLOYMENT = os.getenv(\"AZURE_OPENAI_ADA_DEPLOYMENT\")\n",
    "\n",
    "token_provider = azure.identity.get_bearer_token_provider(azure_credential, \"https://cognitiveservices.azure.com/.default\")\n",
    "openai_client = openai.AzureOpenAI(\n",
    "    api_version=\"2023-07-01-preview\",\n",
    "    azure_endpoint=f\"https://{AZURE_OPENAI_SERVICE}.openai.azure.com\",\n",
    "    azure_ad_token_provider=token_provider)\n",
    "\n",
    "def get_embedding(text):\n",
    "    get_embeddings_response = openai_client.embeddings.create(model=AZURE_OPENAI_ADA_DEPLOYMENT, input=text)\n",
    "    return get_embeddings_response.data[0].embedding\n",
    "\n",
    "# Initialize Azure search client\n",
    "AZURE_SEARCH_SERVICE = os.getenv(\"AZURE_SEARCH_SERVICE\")\n",
    "AZURE_SEARCH_ENDPOINT = f\"https://{AZURE_SEARCH_SERVICE}.search.windows.net\"\n",
    "\n",
    "AZURE_SEARCH_FULL_INDEX = \"gptkbindex\"\n",
    "search_client = SearchClient(AZURE_SEARCH_ENDPOINT, AZURE_SEARCH_FULL_INDEX, credential=azure_credential)\n"
   ]
  },
  {
   "cell_type": "markdown",
   "metadata": {},
   "source": [
    "#### Vector search is not always optimal\n",
    "\n",
    "For example, consider searches for exact strings."
   ]
  },
  {
   "cell_type": "code",
   "execution_count": 2,
   "metadata": {},
   "outputs": [
    {
     "name": "stdout",
     "output_type": "stream",
     "text": [
      "Score: 0.81583\tMatching text: Not found\n",
      "Score: 0.81474\tMatching text: Not found\n",
      "Score: 0.81295\tMatching text: Not found\n"
     ]
    }
   ],
   "source": [
    "search_query = \"$45.00\"\n",
    "search_vector = get_embedding(search_query)\n",
    "r = search_client.search(None, top=3, vector_queries=[\n",
    "    VectorizedQuery(vector=search_vector,k_nearest_neighbors=50, fields=\"embedding\")])\n",
    "for doc in r:\n",
    "    found_content = \"Not found\"\n",
    "    if search_query in doc['content']:\n",
    "        found_content = doc['content'][doc['content'].find(search_query):].replace(\"\\n\", \" \")\n",
    "    print(f\"Score: {doc['@search.score']:.5f}\\tMatching text: {found_content}\")"
   ]
  },
  {
   "cell_type": "markdown",
   "metadata": {},
   "source": [
    "Compare to a text search for same query:"
   ]
  },
  {
   "cell_type": "code",
   "execution_count": 3,
   "metadata": {},
   "outputs": [
    {
     "name": "stdout",
     "output_type": "stream",
     "text": [
      "Score: 5.00821\tMatching text: $45.00</td><td>$55.00</td></tr><tr><td>Employee +1</td><td>$65.00</td><td>$71.00</td></tr><tr><td>Employee +2 or more</td><td>$78.00</td><td>$89.00</td></tr></table> Next Steps We hope that this information has been helpful in understanding the differences between Northwind Health Plus and Northwind Standard. We are confident that you will find the right plan for you and your family. Thank you for choosing Contoso Electronics!\n",
      "Score: 3.68404\tMatching text: Not found\n"
     ]
    }
   ],
   "source": [
    "r = search_client.search(search_query, top=3)\n",
    "for doc in r:\n",
    "    found_content = \"Not found\"\n",
    "    if search_query in doc['content']:\n",
    "        found_content = doc['content'][doc['content'].find(search_query):].replace(\"\\n\", \" \")\n",
    "    print(f\"Score: {doc['@search.score']:.5f}\\tMatching text: {found_content}\")"
   ]
  },
  {
   "cell_type": "markdown",
   "metadata": {},
   "source": [
    "#### Hybrid retrieval\n",
    "\n",
    "Uses RRF to combine vector and text results."
   ]
  },
  {
   "cell_type": "code",
   "execution_count": 4,
   "metadata": {},
   "outputs": [
    {
     "name": "stdout",
     "output_type": "stream",
     "text": [
      "Score: 0.03229\tMatching text: $45.00</td><td>$55.00</td></tr><tr><td>Employee +1</td><td>$65.00</td><td>$71.00</td></tr><tr><td>Employee +2 or more</td><td>$78.00</td><td>$89.00</td></tr></table> Next Steps We hope that this information has been helpful in understanding the differences between Northwind Health Plus and Northwind Standard. We are confident that you will find the right plan for you and your family. Thank you for choosing Contoso Electronics!\n",
      "Score: 0.01667\tMatching text: Not found\n",
      "Score: 0.01639\tMatching text: Not found\n",
      "Score: 0.01639\tMatching text: Not found\n",
      "Score: 0.01613\tMatching text: Not found\n",
      "Score: 0.01587\tMatching text: Not found\n",
      "Score: 0.01538\tMatching text: Not found\n",
      "Score: 0.01515\tMatching text: Not found\n",
      "Score: 0.01493\tMatching text: Not found\n",
      "Score: 0.01471\tMatching text: Not found\n",
      "Score: 0.01449\tMatching text: Not found\n"
     ]
    }
   ],
   "source": [
    "search_vector = get_embedding(search_query)\n",
    "r = search_client.search(search_query, top=15, vector_queries=[\n",
    "    VectorizedQuery(vector=search_vector, k_nearest_neighbors=10, fields=\"embedding\")])\n",
    "for doc in r:\n",
    "    found_content = \"Not found\"\n",
    "    if search_query in doc['content']:\n",
    "        found_content = doc['content'][doc['content'].find(search_query):].replace(\"\\n\", \" \")\n",
    "    print(f\"Score: {doc['@search.score']:.5f}\\tMatching text: {found_content}\")"
   ]
  },
  {
   "cell_type": "markdown",
   "metadata": {},
   "source": [
    "#### Hybrid ranking is not always optimal"
   ]
  },
  {
   "cell_type": "code",
   "execution_count": 5,
   "metadata": {},
   "outputs": [
    {
     "name": "stdout",
     "output_type": "stream",
     "text": [
      "Score: 0.03128\t\tContent:  To receive coverage for habilitation services, the individual must be referred to a qualified provider by their primary care physician. When seeking \n",
      "Score: 0.03009\t\tContent:  PerksPlus is not only designed to support employees' physical health, but also their mental health. Regular exercise has been shown to reduce stress,\n",
      "Score: 0.02803\t\tContent:  Some of the lessons covered under PerksPlus include: · Skiing and snowboarding lessons · Scuba diving lessons · Surfing lessons · Horseback riding le\n",
      "Score: 0.02663\t\tContent:  Occupational Therapy Occupational therapy helps individuals develop, maintain, or restore skills for daily living and work. It can help individuals w\n",
      "Score: 0.02158\t\tContent:  · Talk to your doctor or health care provider about the trial and ask any questions you may have. · Ask about the potential risks and benefits of par\n"
     ]
    }
   ],
   "source": [
    "search_query = \"learning about underwater activities\"\n",
    "search_vector = get_embedding(search_query)\n",
    "r = search_client.search(search_query, top=5, vector_queries=[\n",
    "    VectorizedQuery(vector=search_vector, k_nearest_neighbors=10, fields=\"embedding\")])\n",
    "for doc in r:\n",
    "    content = doc[\"content\"].replace(\"\\n\", \" \")[:150]\n",
    "    print(f\"Score: {doc['@search.score']:.5f}\\t\\tContent: {content}\")"
   ]
  },
  {
   "cell_type": "markdown",
   "metadata": {},
   "source": [
    "#### Hybrid + semantic reranking 🎉"
   ]
  },
  {
   "cell_type": "code",
   "execution_count": 6,
   "metadata": {},
   "outputs": [
    {
     "name": "stdout",
     "output_type": "stream",
     "text": [
      "Score: 0.02803\tReranker: 1.81212\tContent:  Some of the lessons covered under PerksPlus include: · Skiing and snowboarding lessons · Scuba diving lessons · Surfing lessons · Horseback riding le\n",
      "Score: 0.03009\tReranker: 1.44179\tContent:  PerksPlus is not only designed to support employees' physical health, but also their mental health. Regular exercise has been shown to reduce stress,\n",
      "Score: 0.01333\tReranker: 1.14614\tContent: than a sign and post)</td></tr></table> 142 :unselected:Appendix A: Crosswalk Policy THE DITY EL CERRITO <table><tr><th colSpan=4>TABLE A-2: UNCONTROL\n",
      "Score: 0.01389\tReranker: 0.91713\tContent:  goto ( \"https: //demo. playwright. dev/todomvc/#/\" ) 6 page. get_by_placeholder ( \"What needs to be done?\" ) . click ( ) 7 page. get_by_placeholder (\n",
      "Score: 0.01562\tReranker: 0.83134\tContent:  To learn more about generating tests check out or detailed guide on Codegen. Generating locators You can generate locators with the test generator. .\n"
     ]
    }
   ],
   "source": [
    "search_query = \"learning about underwater activities\"\n",
    "search_vector = get_embedding(search_query)\n",
    "r = search_client.search(\n",
    "        search_query,\n",
    "        top=5, \n",
    "        vector_queries=[\n",
    "                VectorizedQuery(vector=search_vector, k_nearest_neighbors=50, fields=\"embedding\")],\n",
    "        query_type=\"semantic\",\n",
    "        semantic_configuration_name=\"default\")\n",
    "\n",
    "for doc in r:\n",
    "    content = doc[\"content\"].replace(\"\\n\", \" \")[:150]\n",
    "    print(f\"Score: {doc['@search.score']:.5f}\\tReranker: {doc['@search.reranker_score']:.5f}\\tContent: {content}\")"
   ]
  }
 ],
 "metadata": {
  "kernelspec": {
   "display_name": "Python 3",
   "language": "python",
   "name": "python3"
  },
  "language_info": {
   "codemirror_mode": {
    "name": "ipython",
    "version": 3
   },
   "file_extension": ".py",
   "mimetype": "text/x-python",
   "name": "python",
   "nbconvert_exporter": "python",
   "pygments_lexer": "ipython3",
   "version": "3.11.0"
  },
  "orig_nbformat": 4
 },
 "nbformat": 4,
 "nbformat_minor": 2
}
